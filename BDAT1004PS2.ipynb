{
 "cells": [
  {
   "cell_type": "markdown",
   "id": "0fa9b647",
   "metadata": {},
   "source": [
    "# 1. \n",
    "Consider the following Python module:\n",
    "a = 0\n",
    "def b():\n",
    " global a\n",
    " a = c(a)\n",
    "def c(a):\n",
    " return a + 2\n",
    " \n",
    "After importing the module into the interpreter, you execute:\n",
    ">>> b()\n",
    ">>> b()\n",
    ">>> b()\n",
    ">>> a\n",
    "?\n",
    "What value is displayed when the last expression (a) is evaluated? Explain your\n",
    "answer by indicating what happens in every executed statement."
   ]
  },
  {
   "cell_type": "code",
   "execution_count": 28,
   "id": "2c8fee1c",
   "metadata": {},
   "outputs": [],
   "source": [
    "a = 0\n",
    "def b():\n",
    "    global a\n",
    "    a = c(a)\n",
    "def c(a):\n",
    "    return a + 2"
   ]
  },
  {
   "cell_type": "code",
   "execution_count": 29,
   "id": "4d62d66e",
   "metadata": {},
   "outputs": [],
   "source": [
    "b()"
   ]
  },
  {
   "cell_type": "code",
   "execution_count": 30,
   "id": "8a5e0a82",
   "metadata": {},
   "outputs": [],
   "source": [
    "b()"
   ]
  },
  {
   "cell_type": "code",
   "execution_count": 31,
   "id": "6bd7743a",
   "metadata": {},
   "outputs": [],
   "source": [
    "b()"
   ]
  },
  {
   "cell_type": "code",
   "execution_count": 32,
   "id": "a87ca10b",
   "metadata": {},
   "outputs": [
    {
     "data": {
      "text/plain": [
       "6"
      ]
     },
     "execution_count": 32,
     "metadata": {},
     "output_type": "execute_result"
    }
   ],
   "source": [
    "a"
   ]
  },
  {
   "cell_type": "markdown",
   "id": "e64a5406",
   "metadata": {},
   "source": [
    "The answer is 6 when the last expression (a) is executed.\n",
    "\n",
    "Explaination:\n",
    "\n",
    "After importing the module into the interpreter, you execute:\n",
    "    \n",
    "when b() execute for 1st time, it will work like 0 + 2 = 2\n",
    "when b() execute for 2nd time, it will work like 2 + 2 = 4\n",
    "when b() execute for 3rd time, it will work like 4 + 2 = 6\n",
    "\n",
    "In each itteration 2 is added to the previous value.\n",
    "\n",
    "So, at the last execution, we will get the value 6."
   ]
  },
  {
   "cell_type": "markdown",
   "id": "a333ee5d",
   "metadata": {},
   "source": [
    "# 2.\n",
    "Function fileLength(), given to you, takes the name of a file as input and returns the length of the file:\n",
    ">>> fileLength('midterm.py')\n",
    "284\n",
    ">>> fileLength('idterm.py')\n",
    "Traceback (most recent call last):\n",
    "File \"<pyshell#34>\", line 1, in <module>\n",
    " fileLength('idterm.py')\n",
    "File \"/Users/me/midterm.py\", line 3, in fileLength\n",
    " infile = open(filename)\n",
    "FileNotFoundError: [Errno 2] No such file or directory:\n",
    "'idterm.py'\n",
    "As shown above, if the file cannot be found by the interpreter or if it cannot be read\n",
    "as a text file, an exception will be raised. Modify function fileLength() so that a\n",
    "friendly message is printed instead:\n",
    ">>> fileLength('midterm.py')\n",
    "358\n",
    ">>> fileLength('idterm.py')\n",
    "File idterm.py not found.\n"
   ]
  },
  {
   "cell_type": "code",
   "execution_count": 69,
   "id": "50e30620",
   "metadata": {},
   "outputs": [
    {
     "name": "stdout",
     "output_type": "stream",
     "text": [
      "127\n",
      "File ilelength.py not found\n"
     ]
    }
   ],
   "source": [
    "import os\n",
    "\n",
    "def fileLength(fname):\n",
    "    try:\n",
    "        f=open(fname,'r')\n",
    "        statinfo = os.stat(fname)\n",
    "        print(statinfo.st_size)\n",
    "    except IOError:\n",
    "        print(\"File\",str(fname),\"not found\")\n",
    "\n",
    "fileLength('Filelength.py')\n",
    "fileLength('ilelength.py')"
   ]
  },
  {
   "cell_type": "markdown",
   "id": "2a1428f5",
   "metadata": {},
   "source": [
    "# 3.\n",
    "Write a class named Marsupial that can be used as shown below:\n",
    ">>> m = Marsupial()\n",
    ">>> m.put_in_pouch('doll')\n",
    ">>> m.put_in_pouch('firetruck')\n",
    ">>> m.put_in_pouch('kitten')\n",
    ">>> m.pouch_contents()\n",
    "['doll', 'firetruck', 'kitten']\n",
    "Now write a class named Kangaroo as a subclass of Marsupial that inherits all the\n",
    "attributes of Marsupial and also:\n",
    "a. extends the Marsupial __init__ constructor to take, as input, the\n",
    "coordinates x and y of the Kangaroo object,\n",
    "b. supports method jump that takes number values dx and dy as input and\n",
    "moves the kangaroo by dx units along the x-axis and by dy units along the yaxis, and\n",
    "c. overloads the __str__ operator so it behaves as shown below."
   ]
  },
  {
   "cell_type": "code",
   "execution_count": 5,
   "id": "b4352d19",
   "metadata": {},
   "outputs": [],
   "source": [
    "class Marsupial:\n",
    "\n",
    "    def __init__(a):\n",
    "        a.pouch=[]\n",
    "\n",
    "    def put_in_pouch(a,i):\n",
    "        a.pouch.append(i)\n",
    "\n",
    "    def pouch_contents(a):\n",
    "        return a.pouch\n",
    "\n",
    "class Kangaroo(Marsupial):\n",
    "\n",
    "    def __init__(a,x,y):\n",
    "        Marsupial.__init__(a)\n",
    "        a.x=x\n",
    "        a.y=y\n",
    "        \n",
    "    def jump(a,m,n):\n",
    "        a.x+=m\n",
    "        a.x+=n\n",
    "\n",
    "    def __str__(a):\n",
    "        return \"I am a Kanagroo located at coordinates (\"+str(a.x)+\",\"+str(a.y)+\")\""
   ]
  },
  {
   "cell_type": "code",
   "execution_count": 6,
   "id": "1bb9440d",
   "metadata": {},
   "outputs": [
    {
     "name": "stdout",
     "output_type": "stream",
     "text": [
      "I am a Kanagroo located at coordinates (0,0)\n"
     ]
    }
   ],
   "source": [
    "k = Kangaroo(0,0)\n",
    "print(k)"
   ]
  },
  {
   "cell_type": "code",
   "execution_count": 7,
   "id": "b686f473",
   "metadata": {},
   "outputs": [
    {
     "name": "stdout",
     "output_type": "stream",
     "text": [
      "['doll', 'firetruck', 'kitten']\n"
     ]
    }
   ],
   "source": [
    "k.put_in_pouch('doll')\n",
    "k.put_in_pouch('firetruck')\n",
    "k.put_in_pouch('kitten')\n",
    "print(k.pouch_contents())"
   ]
  },
  {
   "cell_type": "code",
   "execution_count": 8,
   "id": "1222562f",
   "metadata": {},
   "outputs": [
    {
     "name": "stdout",
     "output_type": "stream",
     "text": [
      "I am a Kanagroo located at coordinates (3,0)\n"
     ]
    }
   ],
   "source": [
    "k.jump(1,0)\n",
    "k.jump(1,0)\n",
    "k.jump(1,0)\n",
    "print(k)"
   ]
  },
  {
   "cell_type": "markdown",
   "id": "2c5d4c5d",
   "metadata": {},
   "source": [
    "# 4. \n",
    "Write function collatz() that takes a positive integer x as input and prints the Collatz sequence starting at x. A Collatz sequence is obtained by repeatedly applying this rule to the previous number x in the sequence:\n",
    "x = {\n",
    "𝑥/2 𝑖𝑓 𝑥 𝑖𝑠 𝑒𝑣𝑒𝑛\n",
    "3𝑥 + 1 𝑖𝑓 𝑥 𝑖𝑠 𝑜𝑑𝑑\n",
    "Your function should stop when the sequence gets to number 1. Your\n",
    "implementation must be recursive, without any loops.\n",
    "\n",
    ">>> collatz(1)\n",
    "1\n",
    ">>> collatz(10)\n",
    "10\n",
    "5\n",
    "16\n",
    "8\n",
    "4\n",
    "2\n",
    "1\n"
   ]
  },
  {
   "cell_type": "code",
   "execution_count": null,
   "id": "038d792c",
   "metadata": {},
   "outputs": [],
   "source": [
    "#Reference - https://www.educative.io/edpresso/how-to-implement-the-collatz-sequence-in-c-and-python"
   ]
  },
  {
   "cell_type": "code",
   "execution_count": 10,
   "id": "1f283542",
   "metadata": {},
   "outputs": [
    {
     "name": "stdout",
     "output_type": "stream",
     "text": [
      "Enter a number: 10\n",
      "5\n",
      "16\n",
      "8\n",
      "4\n",
      "2\n",
      "1\n"
     ]
    }
   ],
   "source": [
    "def collatz(x):\n",
    "\n",
    "    while x != 1:\n",
    "        if x % 2 == 0:\n",
    "            x = x // 2\n",
    "            print(x)\n",
    "\n",
    "        elif x % 2 == 1:\n",
    "            x = x * 3 + 1\n",
    "            print(x)\n",
    "\n",
    "x = input(\"Enter a number: \")\n",
    "x = collatz(int(x))"
   ]
  },
  {
   "cell_type": "code",
   "execution_count": 47,
   "id": "7f85deb3",
   "metadata": {},
   "outputs": [
    {
     "name": "stdout",
     "output_type": "stream",
     "text": [
      "Enter a number: 1\n"
     ]
    }
   ],
   "source": [
    "def collatz(x):\n",
    "\n",
    "    while x != 1:\n",
    "        if x % 2 == 0:\n",
    "            x = x // 2\n",
    "            print(x)\n",
    "\n",
    "        elif x % 2 == 1:\n",
    "            x = x * 3 + 1\n",
    "            print(x)\n",
    "\n",
    "x = input(\"Enter a number: \")\n",
    "x = collatz(int(x))"
   ]
  },
  {
   "cell_type": "markdown",
   "id": "e0496682",
   "metadata": {},
   "source": [
    "# 5. \n",
    "Write a recursive method binary() that takes a non-negative integer n and prints the binary representation of integer n.\n",
    "\n",
    ">>> binary(0)\n",
    "0\n",
    ">>> binary(1)\n",
    "1\n",
    ">>> binary(3)\n",
    "11\n",
    ">>> binary(9)\n",
    "1001\n",
    "\n"
   ]
  },
  {
   "cell_type": "code",
   "execution_count": 38,
   "id": "ae3bd729",
   "metadata": {},
   "outputs": [],
   "source": [
    "def binary(n):\n",
    "    if n == 0:\n",
    "        return '0'\n",
    "    else:\n",
    "        a = ''\n",
    "        while n > 0:\n",
    "            a = str((n % 2)) + a\n",
    "            n //= 2\n",
    "        return a"
   ]
  },
  {
   "cell_type": "code",
   "execution_count": 39,
   "id": "9a3ef2d3",
   "metadata": {},
   "outputs": [
    {
     "name": "stdout",
     "output_type": "stream",
     "text": [
      "0\n"
     ]
    }
   ],
   "source": [
    "print(binary(0))"
   ]
  },
  {
   "cell_type": "code",
   "execution_count": 40,
   "id": "1dfb087b",
   "metadata": {},
   "outputs": [
    {
     "name": "stdout",
     "output_type": "stream",
     "text": [
      "1\n"
     ]
    }
   ],
   "source": [
    "print(binary(1))"
   ]
  },
  {
   "cell_type": "code",
   "execution_count": 41,
   "id": "0066a980",
   "metadata": {},
   "outputs": [
    {
     "name": "stdout",
     "output_type": "stream",
     "text": [
      "11\n"
     ]
    }
   ],
   "source": [
    "print(binary(3))"
   ]
  },
  {
   "cell_type": "code",
   "execution_count": 42,
   "id": "d8be6b36",
   "metadata": {},
   "outputs": [
    {
     "name": "stdout",
     "output_type": "stream",
     "text": [
      "1001\n"
     ]
    }
   ],
   "source": [
    "print(binary(9))"
   ]
  },
  {
   "cell_type": "markdown",
   "id": "157761f7",
   "metadata": {},
   "source": [
    "# 6. \n",
    "Implement a class named HeadingParser that can be used to parse an HTML\n",
    "document, and retrieve and print all the headings in the document. You should\n",
    "implement your class as a subclass of HTMLParser, defined in Standard Library\n",
    "module html.parser. When fed a string containing HTML code, your class should\n",
    "print the headings, one per line and in the order in which they appear in the\n",
    "document. Each heading should be indented as follows: an h1 heading should have indentation 0, and h2 heading should have indentation 1, etc. Test your\n",
    "implementation using w3c.html.\n",
    ">>> infile = open('w3c.html')\n",
    ">>> content = infile.read()\n",
    ">>> infile.close()\n",
    ">>> hp = HeadingParser()\n",
    ">>> hp.feed(content)\n",
    "W3C Mission\n",
    "Principles"
   ]
  },
  {
   "cell_type": "code",
   "execution_count": null,
   "id": "88a5c321",
   "metadata": {},
   "outputs": [],
   "source": [
    "# Reference: https://docs.python.org/3/library/html.parser.html"
   ]
  },
  {
   "cell_type": "code",
   "execution_count": 11,
   "id": "573198b6",
   "metadata": {},
   "outputs": [
    {
     "name": "stdout",
     "output_type": "stream",
     "text": [
      "\n",
      "\n",
      "\n",
      "\n",
      "\n",
      "\n",
      "  \n",
      "\n",
      "  \n",
      "\n",
      "  \n",
      "Change_me\n",
      "\n",
      "  \n",
      "\n",
      "  \n",
      "\n",
      "  \n",
      "\n",
      "\n",
      "\n",
      "\n",
      "\n",
      "\n",
      "  \n",
      "\t\n",
      "W3C Mission\n",
      "\n",
      "\t\n",
      "Principles\n",
      "\n",
      " \n",
      "\n",
      "\n",
      "\n",
      "\n",
      "\n"
     ]
    }
   ],
   "source": [
    "import os\n",
    "\n",
    "os.chdir(\"C:\\\\Users\\\\Savan Patel\\\\Desktop\")\n",
    "\n",
    "from html.parser import HTMLParser\n",
    "\n",
    "class HeadingParser(HTMLParser):\n",
    "    headings = ['h1','h2']\n",
    "\n",
    "    def handle_data(self, data):\n",
    "        print(data)\n",
    "\n",
    "infile = open('w3c.html')\n",
    "content = infile.read()\n",
    "infile.close()\n",
    "hp = HeadingParser()\n",
    "hp.feed(content)"
   ]
  },
  {
   "cell_type": "markdown",
   "id": "1930d31d",
   "metadata": {},
   "source": [
    "# 7.\n",
    "Implement recursive function webdir() that takes as input: a URL (as a string) and\n",
    "non-negative integers depth and indent. Your function should visit every web\n",
    "page reachable from the starting URL web page in depth clicks or less, and print\n",
    "each web page's URL. As shown below, indentation, specified by indent, should\n",
    "be used to indicate the depth of a URL.\n",
    ">>>\n",
    "webdir('http://reed.cs.depaul.edu/lperkovic/csc242/test1.html'\n",
    ", 2, 0)\n",
    "http://reed.cs.depaul.edu/lperkovic/csc242/test1.html\n",
    " http://reed.cs.depaul.edu/lperkovic/csc242/test2.html\n",
    " http://reed.cs.depaul.edu/lperkovic/csc242/test4.html\n",
    " http://reed.cs.depaul.edu/lperkovic/csc242/test3.html\n",
    " http://reed.cs.depaul.edu/lperkovic/csc242/test4.html"
   ]
  },
  {
   "cell_type": "code",
   "execution_count": 91,
   "id": "f0ca06a6",
   "metadata": {},
   "outputs": [],
   "source": [
    "def getLinks(url):\n",
    "    import httplib2\n",
    "    ar = []\n",
    "    http = httplib2.Http()\n",
    "    status, response = http.request(url)\n",
    "\n",
    "    for link in BeautifulSoup(response, parse_only=SoupStrainer('a'), features=\"html.parser\"):\n",
    "        if link.has_attr('href'):\n",
    "            if link['href'][:5] == \"http:\" or link['href'][:5] == \"https\":ar.append(link['href'])\n",
    "\n",
    "    return ar"
   ]
  },
  {
   "cell_type": "code",
   "execution_count": 92,
   "id": "52a21f1d",
   "metadata": {},
   "outputs": [
    {
     "name": "stdout",
     "output_type": "stream",
     "text": [
      "http://reed.cs.depaul.edu/lperkovic/csc242/test1.html:\n"
     ]
    },
    {
     "ename": "ModuleNotFoundError",
     "evalue": "No module named 'httplib2'",
     "output_type": "error",
     "traceback": [
      "\u001b[1;31m---------------------------------------------------------------------------\u001b[0m",
      "\u001b[1;31mModuleNotFoundError\u001b[0m                       Traceback (most recent call last)",
      "\u001b[1;32m<ipython-input-92-7cfc7beb6ffb>\u001b[0m in \u001b[0;36m<module>\u001b[1;34m\u001b[0m\n\u001b[0;32m      9\u001b[0m         \u001b[0mwebdir\u001b[0m\u001b[1;33m(\u001b[0m\u001b[0mi\u001b[0m\u001b[1;33m,\u001b[0m \u001b[0mdepth\u001b[0m\u001b[1;33m-\u001b[0m\u001b[1;36m1\u001b[0m\u001b[1;33m,\u001b[0m \u001b[0mindent\u001b[0m\u001b[1;33m+\u001b[0m\u001b[1;36m1\u001b[0m\u001b[1;33m)\u001b[0m\u001b[1;33m\u001b[0m\u001b[1;33m\u001b[0m\u001b[0m\n\u001b[0;32m     10\u001b[0m \u001b[1;33m\u001b[0m\u001b[0m\n\u001b[1;32m---> 11\u001b[1;33m \u001b[0mwebdir\u001b[0m\u001b[1;33m(\u001b[0m\u001b[1;34m\"http://reed.cs.depaul.edu/lperkovic/csc242/test1.html:\"\u001b[0m\u001b[1;33m,\u001b[0m \u001b[1;36m2\u001b[0m\u001b[1;33m,\u001b[0m \u001b[1;36m0\u001b[0m\u001b[1;33m)\u001b[0m\u001b[1;33m\u001b[0m\u001b[1;33m\u001b[0m\u001b[0m\n\u001b[0m",
      "\u001b[1;32m<ipython-input-92-7cfc7beb6ffb>\u001b[0m in \u001b[0;36mwebdir\u001b[1;34m(url, depth, indent)\u001b[0m\n\u001b[0;32m      6\u001b[0m         \u001b[1;32mreturn\u001b[0m\u001b[1;33m\u001b[0m\u001b[1;33m\u001b[0m\u001b[0m\n\u001b[0;32m      7\u001b[0m \u001b[1;33m\u001b[0m\u001b[0m\n\u001b[1;32m----> 8\u001b[1;33m     \u001b[1;32mfor\u001b[0m \u001b[0mi\u001b[0m \u001b[1;32min\u001b[0m \u001b[0mgetLinks\u001b[0m\u001b[1;33m(\u001b[0m\u001b[0murl\u001b[0m\u001b[1;33m)\u001b[0m\u001b[1;33m:\u001b[0m\u001b[1;33m\u001b[0m\u001b[1;33m\u001b[0m\u001b[0m\n\u001b[0m\u001b[0;32m      9\u001b[0m         \u001b[0mwebdir\u001b[0m\u001b[1;33m(\u001b[0m\u001b[0mi\u001b[0m\u001b[1;33m,\u001b[0m \u001b[0mdepth\u001b[0m\u001b[1;33m-\u001b[0m\u001b[1;36m1\u001b[0m\u001b[1;33m,\u001b[0m \u001b[0mindent\u001b[0m\u001b[1;33m+\u001b[0m\u001b[1;36m1\u001b[0m\u001b[1;33m)\u001b[0m\u001b[1;33m\u001b[0m\u001b[1;33m\u001b[0m\u001b[0m\n\u001b[0;32m     10\u001b[0m \u001b[1;33m\u001b[0m\u001b[0m\n",
      "\u001b[1;32m<ipython-input-91-e3d88736859b>\u001b[0m in \u001b[0;36mgetLinks\u001b[1;34m(url)\u001b[0m\n\u001b[0;32m      1\u001b[0m \u001b[1;32mdef\u001b[0m \u001b[0mgetLinks\u001b[0m\u001b[1;33m(\u001b[0m\u001b[0murl\u001b[0m\u001b[1;33m)\u001b[0m\u001b[1;33m:\u001b[0m\u001b[1;33m\u001b[0m\u001b[1;33m\u001b[0m\u001b[0m\n\u001b[1;32m----> 2\u001b[1;33m     \u001b[1;32mimport\u001b[0m \u001b[0mhttplib2\u001b[0m\u001b[1;33m\u001b[0m\u001b[1;33m\u001b[0m\u001b[0m\n\u001b[0m\u001b[0;32m      3\u001b[0m     \u001b[0mar\u001b[0m \u001b[1;33m=\u001b[0m \u001b[1;33m[\u001b[0m\u001b[1;33m]\u001b[0m\u001b[1;33m\u001b[0m\u001b[1;33m\u001b[0m\u001b[0m\n\u001b[0;32m      4\u001b[0m     \u001b[0mhttp\u001b[0m \u001b[1;33m=\u001b[0m \u001b[0mhttplib2\u001b[0m\u001b[1;33m.\u001b[0m\u001b[0mHttp\u001b[0m\u001b[1;33m(\u001b[0m\u001b[1;33m)\u001b[0m\u001b[1;33m\u001b[0m\u001b[1;33m\u001b[0m\u001b[0m\n\u001b[0;32m      5\u001b[0m     \u001b[0mstatus\u001b[0m\u001b[1;33m,\u001b[0m \u001b[0mresponse\u001b[0m \u001b[1;33m=\u001b[0m \u001b[0mhttp\u001b[0m\u001b[1;33m.\u001b[0m\u001b[0mrequest\u001b[0m\u001b[1;33m(\u001b[0m\u001b[0murl\u001b[0m\u001b[1;33m)\u001b[0m\u001b[1;33m\u001b[0m\u001b[1;33m\u001b[0m\u001b[0m\n",
      "\u001b[1;31mModuleNotFoundError\u001b[0m: No module named 'httplib2'"
     ]
    }
   ],
   "source": [
    "def webdir(url, depth, indent):\n",
    "    \n",
    "    print(indent*\" \" + url)\n",
    "\n",
    "    if depth == 0:\n",
    "        return\n",
    "\n",
    "    for i in getLinks(url):\n",
    "        webdir(i, depth-1, indent+1)\n",
    "\n",
    "webdir(\"http://reed.cs.depaul.edu/lperkovic/csc242/test1.html:\", 2, 0)"
   ]
  },
  {
   "cell_type": "markdown",
   "id": "945ee815",
   "metadata": {},
   "source": [
    "# 8.\n",
    "Write SQL queries on the below database table that return:\n",
    "a) All the temperature data.\n",
    "b) All the cities, but without repetition.\n",
    "c) All the records for India.\n",
    "d) All the Fall records.\n",
    "e) The city, country, and season for which the average rainfall is between 200\n",
    "and 400 millimeters.\n",
    "f) The city and country for which the average Fall temperature is above 20\n",
    "degrees, in increasing temperature order.\n",
    "g) The total annual rainfall for Cairo.\n",
    "h) The total rainfall for each season.\n",
    "\n",
    "City Country Season Temperature\n",
    "(C)\n",
    "Rainfall\n",
    "(mm)\n",
    "Mumbai India Winter 24.8 5.9\n",
    "Mumbai India Spring 28.4 16.2\n",
    "Mumbai India Summer 27.9 1549.4\n",
    "Mumbai India Fall 27.6 346.0\n",
    "London United Kingdom Winter 4.2 207.7\n",
    "London United Kingdom Spring 8.3 169.6\n",
    "London United Kingdom Summer 15.7 157.0\n",
    "London United Kingdom Fall 10.4 218.5\n",
    "Cairo Egypt Winter 13.6 16.5\n",
    "Cairo Egypt Spring 20.7 6.5\n",
    "Cairo Egypt Summer 27.7 0.1\n",
    "Cairo Egypt Fall 22.2 4.5 "
   ]
  },
  {
   "cell_type": "code",
   "execution_count": null,
   "id": "7242fa6c",
   "metadata": {},
   "outputs": [],
   "source": [
    "a) \n",
    "SELECT Temperature(C)\n",
    "FROM table;"
   ]
  },
  {
   "cell_type": "code",
   "execution_count": null,
   "id": "77017584",
   "metadata": {},
   "outputs": [],
   "source": [
    "b)\n",
    "SELECT DISTINCT Country \n",
    "FROM table;"
   ]
  },
  {
   "cell_type": "code",
   "execution_count": null,
   "id": "d98b015e",
   "metadata": {},
   "outputs": [],
   "source": [
    "c)\n",
    "SELECT * FROM table\n",
    "WHERE Country='India';"
   ]
  },
  {
   "cell_type": "code",
   "execution_count": null,
   "id": "a49db59a",
   "metadata": {},
   "outputs": [],
   "source": [
    "d)\n",
    "SELECT * FROM table\n",
    "WHERE Season='Fall';"
   ]
  },
  {
   "cell_type": "code",
   "execution_count": null,
   "id": "09b31d60",
   "metadata": {},
   "outputs": [],
   "source": [
    "e)\n",
    "SELECT City, Country, Season \n",
    "FROM table\n",
    "WHERE Rainfall(mm) BETWEEN 200 AND 400;"
   ]
  },
  {
   "cell_type": "code",
   "execution_count": null,
   "id": "58a50467",
   "metadata": {},
   "outputs": [],
   "source": [
    "f)\n",
    "SELECT City, Country\n",
    "FROM table\n",
    "WHERE Temperature(C) > 20 ASC;"
   ]
  },
  {
   "cell_type": "code",
   "execution_count": null,
   "id": "2b73cc25",
   "metadata": {},
   "outputs": [],
   "source": [
    "g)\n",
    "SELECT COUNT(Rainfall(mm))\n",
    "FROM table\n",
    "WHERE City='Cairo';"
   ]
  },
  {
   "cell_type": "code",
   "execution_count": null,
   "id": "d0e24442",
   "metadata": {},
   "outputs": [],
   "source": [
    "h)\n",
    "SELECT COUNT(Rainfall(mm))\n",
    "FROM table\n",
    "GROUP BY Season;"
   ]
  },
  {
   "cell_type": "markdown",
   "id": "29d879e8",
   "metadata": {},
   "source": [
    "# 9.\n",
    "Suppose list words is defined as follows:\n",
    ">>> words = ['The', 'quick', 'brown', 'fox', 'jumps', 'over',\n",
    "'the', 'lazy', 'dog']\n",
    "Write list comprehension expressions that use list words and generate the following\n",
    "lists:\n",
    "a) ['THE', 'QUICK', 'BROWN', 'FOX', 'JUMPS', 'OVER', 'THE',\n",
    "'LAZY', 'DOG']\n",
    "b) ['the', 'quick', 'brown', 'fox', 'jumps', 'over', 'the',\n",
    "'lazy', 'dog']\n",
    "c) [3, 5, 5, 3, 5, 4, 3, 4, 3] (the list of lengths of words in list\n",
    "words).\n",
    "d) [['THE', 'the', 3], ['QUICK', 'quick', 5], ['BROWN',\n",
    "'brown', 5], ['FOX', 'fox', 3], ['JUMPS', 'jumps', 5],\n",
    "['OVER', 'over', 4], ['THE', 'the', 3], ['LAZY', 'lazy',\n",
    "4], ['DOG', 'dog', 3]] (the list containing a list for every word of list\n",
    "words, where each list contains the word in uppercase and lowercase and the\n",
    "length of the word.)\n",
    "e) ['The', 'quick', 'brown', 'fox', 'jumps', 'over', 'the',\n",
    "'lazy', 'dog'] (the list of words in list words containing 4 or more\n",
    "characters.)"
   ]
  },
  {
   "cell_type": "code",
   "execution_count": 54,
   "id": "8cb4a766",
   "metadata": {},
   "outputs": [],
   "source": [
    "words = ['The', 'quick', 'brown', 'fox', 'jumps', 'over', 'the', 'lazy', 'dog']"
   ]
  },
  {
   "cell_type": "code",
   "execution_count": 55,
   "id": "7755fb99",
   "metadata": {},
   "outputs": [
    {
     "name": "stdout",
     "output_type": "stream",
     "text": [
      "a) Convert all letters from words in uppercase:\n",
      "['THE', 'QUICK', 'BROWN', 'FOX', 'JUMPS', 'OVER', 'THE', 'LAZY', 'DOG']\n"
     ]
    }
   ],
   "source": [
    "print('a) Convert all letters from words in uppercase:')\n",
    "print([x.upper() for x in words])"
   ]
  },
  {
   "cell_type": "code",
   "execution_count": 56,
   "id": "b2acd90a",
   "metadata": {},
   "outputs": [
    {
     "name": "stdout",
     "output_type": "stream",
     "text": [
      "b) Convert all letters from words in lowercase\n",
      "['the', 'quick', 'brown', 'fox', 'jumps', 'over', 'the', 'lazy', 'dog']\n"
     ]
    }
   ],
   "source": [
    "print('b) Convert all letters from words in lowercase')\n",
    "print([x.lower() for x in words])"
   ]
  },
  {
   "cell_type": "code",
   "execution_count": 57,
   "id": "24f70580",
   "metadata": {},
   "outputs": [
    {
     "name": "stdout",
     "output_type": "stream",
     "text": [
      "c) The list of lengths of words in list words:\n",
      "[3, 5, 5, 3, 5, 4, 3, 4, 3]\n"
     ]
    }
   ],
   "source": [
    "print('c) The list of lengths of words in list words:')\n",
    "print([len(x) for x in words])"
   ]
  },
  {
   "cell_type": "code",
   "execution_count": 58,
   "id": "80a86d6b",
   "metadata": {},
   "outputs": [
    {
     "name": "stdout",
     "output_type": "stream",
     "text": [
      "d) the list containing a list for every word of list words, where each list contains the word in uppercase and lowercase and the length of the word:\n",
      "[['THE', 'the', 3], ['QUICK', 'quick', 5], ['BROWN', 'brown', 5], ['FOX', 'fox', 3], ['JUMPS', 'jumps', 5], ['OVER', 'over', 4], ['THE', 'the', 3], ['LAZY', 'lazy', 4], ['DOG', 'dog', 3]]\n"
     ]
    }
   ],
   "source": [
    "print('d) the list containing a list for every word of list words, where each list contains the word in uppercase and lowercase and the length of the word:')\n",
    "print([[x.upper(), x.lower(), len(x)] for x in words])"
   ]
  },
  {
   "cell_type": "code",
   "execution_count": 59,
   "id": "f2748d88",
   "metadata": {},
   "outputs": [
    {
     "name": "stdout",
     "output_type": "stream",
     "text": [
      "e) the list of words in list words containing 4 or more characters:\n",
      "['quick', 'brown', 'jumps', 'over', 'lazy']\n"
     ]
    }
   ],
   "source": [
    "print('e) the list of words in list words containing 4 or more characters:')\n",
    "print([x for x in words if len(x)>=4])"
   ]
  }
 ],
 "metadata": {
  "kernelspec": {
   "display_name": "Python 3",
   "language": "python",
   "name": "python3"
  },
  "language_info": {
   "codemirror_mode": {
    "name": "ipython",
    "version": 3
   },
   "file_extension": ".py",
   "mimetype": "text/x-python",
   "name": "python",
   "nbconvert_exporter": "python",
   "pygments_lexer": "ipython3",
   "version": "3.8.8"
  }
 },
 "nbformat": 4,
 "nbformat_minor": 5
}
